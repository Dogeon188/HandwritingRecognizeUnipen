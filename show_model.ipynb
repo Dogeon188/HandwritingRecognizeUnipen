{
 "cells": [
  {
   "cell_type": "code",
   "execution_count": null,
   "metadata": {},
   "outputs": [],
   "source": [
    "# import libraries\n",
    "import keras\n",
    "import numpy as np\n",
    "from utils.preprocess import *\n",
    "from utils.demonstration import plot_filters\n",
    "from config import *"
   ]
  },
  {
   "cell_type": "code",
   "execution_count": null,
   "metadata": {},
   "outputs": [],
   "source": [
    "# load model\n",
    "model = keras.models.load_model(f\"data/unipen_model.h5\")\n",
    "model.summary()"
   ]
  },
  {
   "cell_type": "code",
   "execution_count": null,
   "metadata": {},
   "outputs": [],
   "source": [
    "for layer in filter(lambda x: x.name.startswith(\"conv\") or x.name.startswith(\"dense\"), model.layers):\n",
    "    weights = layer.get_weights()[0]\n",
    "    bias = layer.get_weights()[1]\n",
    "    print(layer.name, weights.shape, bias.shape)\n",
    "    if layer.name == \"conv2\":\n",
    "        print(weights[:,:,1,0])"
   ]
  },
  {
   "cell_type": "code",
   "execution_count": null,
   "metadata": {},
   "outputs": [],
   "source": [
    "import visualkeras\n",
    "from PIL import ImageFont\n",
    "import matplotlib.pyplot as plt\n",
    "\n",
    "font = ImageFont.FreeTypeFont(\"/System/Library/Fonts/Supplemental/Arial.ttf\", 24)\n",
    "plt.imshow(visualkeras.layered_view(model, legend=True, font=font))\n",
    "visualkeras.layered_view(model, legend=True, font=font)\n",
    "plt.gcf().set_dpi(300)\n",
    "plt.axis('off')\n",
    "plt.show()"
   ]
  },
  {
   "cell_type": "code",
   "execution_count": null,
   "metadata": {},
   "outputs": [],
   "source": [
    "minparam = 100000000\n",
    "maxparam = -100000000\n",
    "\n",
    "for layer in model.layers:\n",
    "    if len(layer.get_weights()) > 0:\n",
    "        print(layer.name)\n",
    "\n",
    "        minweight = layer.get_weights()[0].min()\n",
    "        maxweight = layer.get_weights()[0].max()\n",
    "        print(\"  Weights:\", layer.get_weights()[0].shape, end=\" \")\n",
    "        print(layer.get_weights()[0].min(), layer.get_weights()[0].max())\n",
    "\n",
    "        minbias = layer.get_weights()[1].min()\n",
    "        maxbias = layer.get_weights()[1].max()\n",
    "        print(\"  Bias:\", layer.get_weights()[1].shape, end=\" \")\n",
    "        print(layer.get_weights()[1].min(), layer.get_weights()[1].max())\n",
    "\n",
    "        minparam = min(minparam, minweight, minbias)\n",
    "        maxparam = max(maxparam, maxweight, maxbias)"
   ]
  },
  {
   "cell_type": "code",
   "execution_count": null,
   "metadata": {},
   "outputs": [],
   "source": [
    "all_params = np.array([])\n",
    "\n",
    "for weight in model.get_weights():\n",
    "    all_params = np.append(all_params, weight.flatten())\n",
    "\n",
    "plt.yscale('log')\n",
    "plt.title(f\"Max: {maxparam:.4f}, Min: {minparam:.4f}\")\n",
    "plt.hist(all_params, bins=100)\n",
    "\"\""
   ]
  }
 ],
 "metadata": {
  "kernelspec": {
   "display_name": "unipen",
   "language": "python",
   "name": "python3"
  },
  "language_info": {
   "codemirror_mode": {
    "name": "ipython",
    "version": 3
   },
   "file_extension": ".py",
   "mimetype": "text/x-python",
   "name": "python",
   "nbconvert_exporter": "python",
   "pygments_lexer": "ipython3",
   "version": "3.11.6"
  }
 },
 "nbformat": 4,
 "nbformat_minor": 2
}
