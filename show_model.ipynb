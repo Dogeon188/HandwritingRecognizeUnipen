{
 "cells": [
  {
   "cell_type": "code",
   "execution_count": null,
   "metadata": {},
   "outputs": [],
   "source": [
    "# import libraries\n",
    "import keras\n",
    "import numpy as np\n",
    "from utils.preprocess import *\n",
    "from utils.demonstration import plot_filters\n",
    "from config import *"
   ]
  },
  {
   "cell_type": "code",
   "execution_count": null,
   "metadata": {},
   "outputs": [],
   "source": [
    "# load model\n",
    "target_model = \"unipen_no_cap_model\" if no_cap else \"unipen_model\"\n",
    "model = keras.models.load_model(f\"data/{target_model}.h5\")"
   ]
  },
  {
   "cell_type": "code",
   "execution_count": null,
   "metadata": {},
   "outputs": [],
   "source": [
    "model.summary()"
   ]
  },
  {
   "cell_type": "code",
   "execution_count": null,
   "metadata": {},
   "outputs": [],
   "source": [
    "import visualkeras\n",
    "from PIL import ImageFont\n",
    "import matplotlib.pyplot as plt\n",
    "\n",
    "font = ImageFont.FreeTypeFont(\"/System/Library/Fonts/Supplemental/Arial.ttf\", 24)\n",
    "plt.imshow(visualkeras.layered_view(model, legend=True, font=font))\n",
    "visualkeras.layered_view(model, legend=True, font=font)\n",
    "plt.gcf().set_dpi(300)\n",
    "plt.axis('off')\n",
    "plt.show()"
   ]
  },
  {
   "cell_type": "code",
   "execution_count": null,
   "metadata": {},
   "outputs": [],
   "source": [
    "for layer in model.layers:\n",
    "    if len(layer.get_weights()) > 0:\n",
    "        print(layer.name)\n",
    "        print(\"Weights:\", layer.get_weights()[0].shape)\n",
    "        print(layer.get_weights()[0].min(), layer.get_weights()[0].max())\n",
    "        print(\"Bias:\", layer.get_weights()[1].shape)\n",
    "        print(layer.get_weights()[1].min(), layer.get_weights()[1].max())"
   ]
  },
  {
   "cell_type": "code",
   "execution_count": null,
   "metadata": {},
   "outputs": [],
   "source": [
    "for layer in model.layers:\n",
    "    if layer.name.startswith(\"conv\"):\n",
    "        weights = layer.get_weights()\n",
    "        filters: np.array = weights[0]\n",
    "        plot_filters(filters, (filters.shape[-1] // 8, 8))"
   ]
  }
 ],
 "metadata": {
  "kernelspec": {
   "display_name": "unipen",
   "language": "python",
   "name": "python3"
  },
  "language_info": {
   "codemirror_mode": {
    "name": "ipython",
    "version": 3
   },
   "file_extension": ".py",
   "mimetype": "text/x-python",
   "name": "python",
   "nbconvert_exporter": "python",
   "pygments_lexer": "ipython3",
   "version": "3.11.6"
  }
 },
 "nbformat": 4,
 "nbformat_minor": 2
}
