{
 "cells": [
  {
   "cell_type": "code",
   "execution_count": null,
   "metadata": {},
   "outputs": [],
   "source": [
    "# import libraries\n",
    "import keras\n",
    "from utils.preprocess import *\n",
    "from config import *"
   ]
  },
  {
   "cell_type": "code",
   "execution_count": null,
   "metadata": {},
   "outputs": [],
   "source": [
    "# load dataset\n",
    "dataset = load_unipen_dataset(no_cap)\n",
    "\n",
    "# normalize dataset\n",
    "def normalize(data, label):\n",
    "    return tf.cast(data, tf.float32) / 255.0, label\n",
    "\n",
    "if normalize_dataset:\n",
    "    dataset = dataset.map(normalize)\n",
    "dataset = dataset.shuffle(10000).batch(64)"
   ]
  },
  {
   "cell_type": "code",
   "execution_count": null,
   "metadata": {},
   "outputs": [],
   "source": [
    "# load model\n",
    "target_model = \"unipen_no_cap_model\" if no_cap else \"unipen_model\"\n",
    "model = keras.models.load_model(f\"data/{target_model}.h5\")"
   ]
  },
  {
   "cell_type": "code",
   "execution_count": null,
   "metadata": {},
   "outputs": [],
   "source": [
    "# predict all\n",
    "loss, acc = model.evaluate(dataset)\n",
    "print(\"Overall loss:    \", loss)\n",
    "print(\"Overall accuracy:\", acc)"
   ]
  },
  {
   "cell_type": "code",
   "execution_count": null,
   "metadata": {},
   "outputs": [],
   "source": [
    "# predict & plot\n",
    "from utils.demonstration import plot_digits\n",
    "\n",
    "for img, label in dataset.take(1):\n",
    "    prediction = model.predict(img, verbose=0)\n",
    "    plot_digits(img.numpy(), label.numpy(), prediction, (8, 8))"
   ]
  }
 ],
 "metadata": {
  "kernelspec": {
   "display_name": "unipen",
   "language": "python",
   "name": "python3"
  },
  "language_info": {
   "codemirror_mode": {
    "name": "ipython",
    "version": 3
   },
   "file_extension": ".py",
   "mimetype": "text/x-python",
   "name": "python",
   "nbconvert_exporter": "python",
   "pygments_lexer": "ipython3",
   "version": "3.11.6"
  }
 },
 "nbformat": 4,
 "nbformat_minor": 2
}
