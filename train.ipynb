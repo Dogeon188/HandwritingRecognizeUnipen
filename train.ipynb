{
 "cells": [
  {
   "cell_type": "code",
   "execution_count": null,
   "metadata": {},
   "outputs": [],
   "source": [
    "# import libraries\n",
    "import keras\n",
    "from utils.preprocess import *\n",
    "from config import *"
   ]
  },
  {
   "cell_type": "code",
   "execution_count": null,
   "metadata": {},
   "outputs": [],
   "source": [
    "from keras.preprocessing.image import ImageDataGenerator\n",
    "\n",
    "# load dataset\n",
    "dataset = load_unipen_dataset()\n",
    "\n",
    "# data augmentation\n",
    "augmentLayers = [\n",
    "    # keras.layers.RandomRotation(0.01, fill_mode='constant'),\n",
    "    keras.layers.RandomTranslation(0.01, 0.01, fill_mode='constant'),\n",
    "    keras.layers.RandomZoom(0.01, fill_mode='constant'),\n",
    "]\n",
    "\n",
    "def augment(data, label):\n",
    "    for layer in augmentLayers:\n",
    "        data = layer(data)\n",
    "    return data, label\n",
    "\n",
    "dataset = dataset.shuffle(shuffle_buffer_size)\n",
    "# dataset = dataset.repeat(2)\n",
    "dataset = dataset.batch(batch_size)\n",
    "dataset = dataset.map(augment)\n",
    "\n",
    "# split & filter dataset\n",
    "train_size = int(train_prop * dataset.cardinality().numpy())\n",
    "train_dataset = dataset.take(train_size)\n",
    "test_dataset = dataset.skip(train_size)"
   ]
  },
  {
   "cell_type": "code",
   "execution_count": null,
   "metadata": {},
   "outputs": [],
   "source": [
    "# build model\n",
    "param_constraint = keras.constraints.MinMaxNorm(-2, 2, 1, 0)\n",
    "model = keras.Sequential([\n",
    "    keras.layers.Conv2D(32, (3, 3), name=\"conv1\", input_shape=(32, 32, 1), kernel_constraint=param_constraint, bias_constraint=param_constraint),\n",
    "    keras.layers.ReLU(name=\"relu1\"),\n",
    "\n",
    "    keras.layers.MaxPooling2D((2, 2), name=\"maxpool1\"),\n",
    "\n",
    "    keras.layers.Conv2D(48, (3, 3), name=\"conv2\", kernel_constraint=param_constraint, bias_constraint=param_constraint),\n",
    "    keras.layers.ReLU(name=\"relu2\"),\n",
    "    \n",
    "    keras.layers.MaxPooling2D((2, 2), name=\"maxpool2\"),\n",
    "    \n",
    "    keras.layers.Conv2D(80, (3, 3), name=\"conv3\", kernel_constraint=param_constraint, bias_constraint=param_constraint),\n",
    "    keras.layers.ReLU(name=\"relu3\"),\n",
    "    \n",
    "    keras.layers.MaxPooling2D((2, 2), name=\"maxpool3\"),\n",
    "    # keras.layers.GlobalAveragePooling2D(name=\"avgpool\"),\n",
    "\n",
    "    keras.layers.Flatten(name=\"flatten\"),\n",
    "    keras.layers.Dropout(0.25),\n",
    "\n",
    "    keras.layers.Dense(96, name=\"dense2\", kernel_constraint=param_constraint, bias_constraint=param_constraint),\n",
    "    keras.layers.ReLU(name=\"reludense2\"),\n",
    "    \n",
    "    keras.layers.Dense(128 - 32, name=\"dense1\", kernel_constraint=param_constraint, bias_constraint=param_constraint),\n",
    "])\n",
    "\n",
    "model.compile(optimizer=tf.keras.optimizers.legacy.Adam(), # it says M2 is bad at latest Adam\n",
    "              loss=keras.losses.SparseCategoricalCrossentropy(from_logits=True),\n",
    "              metrics=['accuracy'])\n",
    "\n",
    "# Param # = ((kersize ** 2) * in + 1) * out\n",
    "model.summary()"
   ]
  },
  {
   "cell_type": "code",
   "execution_count": null,
   "metadata": {},
   "outputs": [],
   "source": [
    "model.fit(train_dataset, epochs=epochs, validation_data=test_dataset)"
   ]
  },
  {
   "cell_type": "code",
   "execution_count": null,
   "metadata": {},
   "outputs": [],
   "source": [
    "# evaluate model\n",
    "test_loss, test_acc = model.evaluate(test_dataset)\n",
    "\n",
    "print()\n",
    "print('Test loss:    ', test_loss)\n",
    "print('Test accuracy:', test_acc)"
   ]
  },
  {
   "cell_type": "code",
   "execution_count": null,
   "metadata": {},
   "outputs": [],
   "source": [
    "# save model\n",
    "model.save(f\"data/unipen_model.h5\")"
   ]
  }
 ],
 "metadata": {
  "kernelspec": {
   "display_name": "unipen",
   "language": "python",
   "name": "python3"
  },
  "language_info": {
   "codemirror_mode": {
    "name": "ipython",
    "version": 3
   },
   "file_extension": ".py",
   "mimetype": "text/x-python",
   "name": "python",
   "nbconvert_exporter": "python",
   "pygments_lexer": "ipython3",
   "version": "3.11.6"
  }
 },
 "nbformat": 4,
 "nbformat_minor": 2
}
