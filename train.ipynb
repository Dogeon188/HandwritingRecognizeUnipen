{
 "cells": [
  {
   "cell_type": "code",
   "execution_count": 1,
   "metadata": {},
   "outputs": [],
   "source": [
    "# import libraries\n",
    "import keras\n",
    "from utils.preprocess import *"
   ]
  },
  {
   "cell_type": "code",
   "execution_count": 2,
   "metadata": {},
   "outputs": [],
   "source": [
    "# config\n",
    "no_cap = False  # if True, capital letters will be ignored\n",
    "train_prop = 0.7  # proportion of training data\n",
    "batch_size = 32\n",
    "shuffle_buffer_size = 10000\n",
    "epochs = 10\n",
    "\n",
    "target_model = \"unipen_no_cap_model\" if no_cap else \"unipen_model\""
   ]
  },
  {
   "cell_type": "code",
   "execution_count": 3,
   "metadata": {},
   "outputs": [],
   "source": [
    "# load dataset\n",
    "dataset = load_unipen_dataset(no_cap).shuffle(shuffle_buffer_size)\n",
    "\n",
    "# normalize dataset\n",
    "def normalize(data, label):\n",
    "    return tf.cast(data, tf.float32) / 255.0, label\n",
    "\n",
    "dataset = dataset.map(normalize)\n",
    "\n",
    "# split & filter dataset\n",
    "train_size = int(train_prop * dataset.cardinality().numpy())\n",
    "train_dataset = dataset.take(train_size).batch(batch_size)\n",
    "test_dataset = dataset.skip(train_size).batch(batch_size)"
   ]
  },
  {
   "cell_type": "code",
   "execution_count": 4,
   "metadata": {},
   "outputs": [],
   "source": [
    "# build model\n",
    "model = keras.Sequential([\n",
    "    keras.layers.Conv2D(32, (4, 4), activation='relu', input_shape=(64, 64, 1)),\n",
    "    keras.layers.MaxPooling2D((2, 2)),\n",
    "    keras.layers.Flatten(),\n",
    "    # keras.layers.Dense(256, activation='relu'),\n",
    "    keras.layers.Dense(128)\n",
    "])\n",
    "model.compile(optimizer='adam',\n",
    "              loss=keras.losses.SparseCategoricalCrossentropy(from_logits=True),\n",
    "              metrics=['accuracy'])"
   ]
  },
  {
   "cell_type": "code",
   "execution_count": 5,
   "metadata": {},
   "outputs": [
    {
     "name": "stdout",
     "output_type": "stream",
     "text": [
      "Epoch 1/10\n",
      "1365/1365 [==============================] - 19s 14ms/step - loss: 1.3454 - accuracy: 0.6402\n",
      "Epoch 2/10\n",
      "1365/1365 [==============================] - 20s 15ms/step - loss: 0.6696 - accuracy: 0.7964\n",
      "Epoch 3/10\n",
      "1365/1365 [==============================] - 20s 15ms/step - loss: 0.4376 - accuracy: 0.8636\n",
      "Epoch 4/10\n",
      "1365/1365 [==============================] - 20s 15ms/step - loss: 0.2948 - accuracy: 0.9057\n",
      "Epoch 5/10\n",
      "1365/1365 [==============================] - 20s 15ms/step - loss: 0.2051 - accuracy: 0.9356\n",
      "Epoch 6/10\n",
      "1365/1365 [==============================] - 20s 15ms/step - loss: 0.1564 - accuracy: 0.9507\n",
      "Epoch 7/10\n",
      "1365/1365 [==============================] - 21s 15ms/step - loss: 0.1202 - accuracy: 0.9636\n",
      "Epoch 8/10\n",
      "1365/1365 [==============================] - 21s 16ms/step - loss: 0.1021 - accuracy: 0.9699\n",
      "Epoch 9/10\n",
      "1365/1365 [==============================] - 21s 15ms/step - loss: 0.0841 - accuracy: 0.9750\n",
      "Epoch 10/10\n",
      "1365/1365 [==============================] - 21s 15ms/step - loss: 0.0719 - accuracy: 0.9803\n"
     ]
    },
    {
     "data": {
      "text/plain": [
       "<keras.src.callbacks.History at 0x14fe1fa50>"
      ]
     },
     "execution_count": 5,
     "metadata": {},
     "output_type": "execute_result"
    }
   ],
   "source": [
    "model.fit(train_dataset, epochs=epochs)"
   ]
  },
  {
   "cell_type": "code",
   "execution_count": 6,
   "metadata": {},
   "outputs": [
    {
     "name": "stdout",
     "output_type": "stream",
     "text": [
      "585/585 [==============================] - 3s 5ms/step - loss: 0.8271 - accuracy: 0.8408\n",
      "\n",
      "Test loss: 0.8270606398582458\n",
      "Test accuracy: 0.8407694101333618\n"
     ]
    }
   ],
   "source": [
    "# evaluate model\n",
    "test_loss, test_acc = model.evaluate(test_dataset)\n",
    "\n",
    "print()\n",
    "print('Test loss:', test_loss)\n",
    "print('Test accuracy:', test_acc)"
   ]
  },
  {
   "cell_type": "code",
   "execution_count": 7,
   "metadata": {},
   "outputs": [
    {
     "name": "stderr",
     "output_type": "stream",
     "text": [
      "/Users/dogeon/Documents/code/py/unipen/lib/python3.11/site-packages/keras/src/engine/training.py:3079: UserWarning: You are saving your model as an HDF5 file via `model.save()`. This file format is considered legacy. We recommend using instead the native Keras format, e.g. `model.save('my_model.keras')`.\n",
      "  saving_api.save_model(\n"
     ]
    }
   ],
   "source": [
    "# save model\n",
    "model.save(f\"data/{target_model}.h5\")"
   ]
  }
 ],
 "metadata": {
  "kernelspec": {
   "display_name": "unipen",
   "language": "python",
   "name": "python3"
  },
  "language_info": {
   "codemirror_mode": {
    "name": "ipython",
    "version": 3
   },
   "file_extension": ".py",
   "mimetype": "text/x-python",
   "name": "python",
   "nbconvert_exporter": "python",
   "pygments_lexer": "ipython3",
   "version": "3.11.6"
  }
 },
 "nbformat": 4,
 "nbformat_minor": 2
}
