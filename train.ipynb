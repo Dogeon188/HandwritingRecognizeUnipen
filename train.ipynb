{
 "cells": [
  {
   "cell_type": "code",
   "execution_count": null,
   "metadata": {},
   "outputs": [],
   "source": [
    "# import libraries\n",
    "import keras\n",
    "from utils.preprocess import *\n",
    "from config import *"
   ]
  },
  {
   "cell_type": "code",
   "execution_count": null,
   "metadata": {},
   "outputs": [],
   "source": [
    "# load dataset\n",
    "dataset = load_unipen_dataset(no_cap)\n",
    "\n",
    "# normalize dataset\n",
    "def normalize(data, label):\n",
    "    return tf.cast(data, tf.float32) / 255.0, label\n",
    "\n",
    "if normalize_dataset:\n",
    "    dataset = dataset.map(normalize)\n",
    "\n",
    "# data augmentation\n",
    "augmentLayer = keras.layers.RandomRotation(0.01, fill_mode='constant')\n",
    "def augment(data, label):\n",
    "    return augmentLayer(data), label\n",
    "\n",
    "dataset = dataset.shuffle(shuffle_buffer_size)\n",
    "dataset = dataset.batch(batch_size)\n",
    "dataset = dataset.map(augment)\n",
    "\n",
    "# split & filter dataset\n",
    "train_size = int(train_prop * dataset.cardinality().numpy())\n",
    "train_dataset = dataset.take(train_size)\n",
    "test_dataset = dataset.skip(train_size)"
   ]
  },
  {
   "cell_type": "code",
   "execution_count": null,
   "metadata": {},
   "outputs": [],
   "source": [
    "# build model\n",
    "model = keras.Sequential([\n",
    "    keras.layers.Conv2D(16, (3, 3), name=\"conv1\", input_shape=(32, 32, 1)),\n",
    "    keras.layers.ReLU(name=\"relu16\"),\n",
    "\n",
    "    keras.layers.MaxPooling2D((2, 2), name=\"maxpool1\"),\n",
    "\n",
    "    keras.layers.Conv2D(32, (3, 3), name=\"conv2\"),\n",
    "    keras.layers.ReLU(name=\"relu32\"),\n",
    "    \n",
    "    keras.layers.MaxPooling2D((2, 2), name=\"maxpool2\"),\n",
    "    \n",
    "    keras.layers.Conv2D(64, (3, 3), name=\"conv3\"),\n",
    "    keras.layers.ReLU(name=\"relu64\"),\n",
    "    \n",
    "    # keras.layers.MaxPooling2D((2, 2), name=\"maxpool3\"),\n",
    "    \n",
    "    keras.layers.Conv2D(128, (3, 3), name=\"conv4\"),\n",
    "    keras.layers.ReLU(name=\"relu128\"),\n",
    "    \n",
    "    keras.layers.MaxPooling2D((2, 2), name=\"maxpool4\"),\n",
    "\n",
    "    keras.layers.Dropout(0.25),\n",
    "    \n",
    "    keras.layers.Flatten(name=\"flatten\"),\n",
    "\n",
    "    # keras.layers.Dense(128, name=\"dense256\"),\n",
    "    # keras.layers.ReLU(name=\"reludense256\"),\n",
    "    \n",
    "    keras.layers.Dense(128 - 32, name=\"dense128\"),\n",
    "])\n",
    "\n",
    "model.compile(optimizer='adam',\n",
    "              loss=keras.losses.SparseCategoricalCrossentropy(from_logits=True),\n",
    "              metrics=['accuracy'])\n",
    "\n",
    "# Param # = ((kersize ** 2) * in + 1) * out\n",
    "model.summary()"
   ]
  },
  {
   "cell_type": "code",
   "execution_count": null,
   "metadata": {},
   "outputs": [],
   "source": [
    "model.fit(train_dataset, epochs=epochs)"
   ]
  },
  {
   "cell_type": "code",
   "execution_count": null,
   "metadata": {},
   "outputs": [],
   "source": [
    "# evaluate model\n",
    "test_loss, test_acc = model.evaluate(test_dataset)\n",
    "\n",
    "print()\n",
    "print('Test loss:    ', test_loss)\n",
    "print('Test accuracy:', test_acc)"
   ]
  },
  {
   "cell_type": "code",
   "execution_count": null,
   "metadata": {},
   "outputs": [],
   "source": [
    "# save model\n",
    "target_model = \"unipen_no_cap_model\" if no_cap else \"unipen_model\"\n",
    "model.save(f\"data/{target_model}.h5\")"
   ]
  }
 ],
 "metadata": {
  "kernelspec": {
   "display_name": "unipen",
   "language": "python",
   "name": "python3"
  },
  "language_info": {
   "codemirror_mode": {
    "name": "ipython",
    "version": 3
   },
   "file_extension": ".py",
   "mimetype": "text/x-python",
   "name": "python",
   "nbconvert_exporter": "python",
   "pygments_lexer": "ipython3",
   "version": "3.11.6"
  }
 },
 "nbformat": 4,
 "nbformat_minor": 2
}
